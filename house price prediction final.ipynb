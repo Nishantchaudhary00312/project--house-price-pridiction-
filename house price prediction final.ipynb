{
 "cells": [
  {
   "cell_type": "code",
   "execution_count": 1,
   "id": "e61b4adc",
   "metadata": {},
   "outputs": [],
   "source": [
    "import numpy as np\n",
    "import pandas as pd\n",
    "from sklearn.model_selection import train_test_split\n",
    "from sklearn.linear_model import LinearRegression\n",
    "from sklearn.metrics import mean_squared_error\n",
    "from sklearn.preprocessing import OneHotEncoder\n",
    "import tensorflow as tf\n",
    "from tensorflow.keras.models import Sequential\n",
    "from tensorflow.keras.layers import Dense\n",
    "from tensorflow.keras.optimizers import Adam\n",
    "import seaborn as sns \n",
    "import matplotlib.pyplot as plt\n",
    "%matplotlib inline "
   ]
  },
  {
   "cell_type": "markdown",
   "id": "5e078bad",
   "metadata": {},
   "source": [
    "# Importing dataset"
   ]
  },
  {
   "cell_type": "code",
   "execution_count": 2,
   "id": "f0ac6eed",
   "metadata": {},
   "outputs": [],
   "source": [
    "data = pd.read_csv(\"house data.csv\")"
   ]
  },
  {
   "cell_type": "code",
   "execution_count": 3,
   "id": "4df204ea",
   "metadata": {},
   "outputs": [],
   "source": [
    "data.dropna(inplace = True)"
   ]
  },
  {
   "cell_type": "code",
   "execution_count": 4,
   "id": "40c64b61",
   "metadata": {},
   "outputs": [],
   "source": [
    "data_encoded = pd.get_dummies(data)"
   ]
  },
  {
   "cell_type": "code",
   "execution_count": 33,
   "id": "c69359d1",
   "metadata": {},
   "outputs": [
    {
     "data": {
      "text/html": [
       "<div>\n",
       "<style scoped>\n",
       "    .dataframe tbody tr th:only-of-type {\n",
       "        vertical-align: middle;\n",
       "    }\n",
       "\n",
       "    .dataframe tbody tr th {\n",
       "        vertical-align: top;\n",
       "    }\n",
       "\n",
       "    .dataframe thead th {\n",
       "        text-align: right;\n",
       "    }\n",
       "</style>\n",
       "<table border=\"1\" class=\"dataframe\">\n",
       "  <thead>\n",
       "    <tr style=\"text-align: right;\">\n",
       "      <th></th>\n",
       "      <th>Area</th>\n",
       "      <th>BHK</th>\n",
       "      <th>Bathroom</th>\n",
       "      <th>Furnishing</th>\n",
       "      <th>Locality</th>\n",
       "      <th>Parking</th>\n",
       "      <th>Price</th>\n",
       "      <th>Status</th>\n",
       "      <th>Transaction</th>\n",
       "      <th>Type</th>\n",
       "      <th>Per_Sqft</th>\n",
       "    </tr>\n",
       "  </thead>\n",
       "  <tbody>\n",
       "    <tr>\n",
       "      <th>1</th>\n",
       "      <td>750.0</td>\n",
       "      <td>2</td>\n",
       "      <td>2.0</td>\n",
       "      <td>Semi-Furnished</td>\n",
       "      <td>J R Designers Floors, Rohini Sector 24</td>\n",
       "      <td>1.0</td>\n",
       "      <td>5000000</td>\n",
       "      <td>Ready_to_move</td>\n",
       "      <td>New_Property</td>\n",
       "      <td>Apartment</td>\n",
       "      <td>6667.0</td>\n",
       "    </tr>\n",
       "    <tr>\n",
       "      <th>2</th>\n",
       "      <td>950.0</td>\n",
       "      <td>2</td>\n",
       "      <td>2.0</td>\n",
       "      <td>Furnished</td>\n",
       "      <td>Citizen Apartment, Rohini Sector 13</td>\n",
       "      <td>1.0</td>\n",
       "      <td>15500000</td>\n",
       "      <td>Ready_to_move</td>\n",
       "      <td>Resale</td>\n",
       "      <td>Apartment</td>\n",
       "      <td>6667.0</td>\n",
       "    </tr>\n",
       "    <tr>\n",
       "      <th>3</th>\n",
       "      <td>600.0</td>\n",
       "      <td>2</td>\n",
       "      <td>2.0</td>\n",
       "      <td>Semi-Furnished</td>\n",
       "      <td>Rohini Sector 24</td>\n",
       "      <td>1.0</td>\n",
       "      <td>4200000</td>\n",
       "      <td>Ready_to_move</td>\n",
       "      <td>Resale</td>\n",
       "      <td>Builder_Floor</td>\n",
       "      <td>6667.0</td>\n",
       "    </tr>\n",
       "    <tr>\n",
       "      <th>4</th>\n",
       "      <td>650.0</td>\n",
       "      <td>2</td>\n",
       "      <td>2.0</td>\n",
       "      <td>Semi-Furnished</td>\n",
       "      <td>Rohini Sector 24 carpet area 650 sqft status R...</td>\n",
       "      <td>1.0</td>\n",
       "      <td>6200000</td>\n",
       "      <td>Ready_to_move</td>\n",
       "      <td>New_Property</td>\n",
       "      <td>Builder_Floor</td>\n",
       "      <td>6667.0</td>\n",
       "    </tr>\n",
       "    <tr>\n",
       "      <th>5</th>\n",
       "      <td>1300.0</td>\n",
       "      <td>4</td>\n",
       "      <td>3.0</td>\n",
       "      <td>Semi-Furnished</td>\n",
       "      <td>Rohini Sector 24</td>\n",
       "      <td>1.0</td>\n",
       "      <td>15500000</td>\n",
       "      <td>Ready_to_move</td>\n",
       "      <td>New_Property</td>\n",
       "      <td>Builder_Floor</td>\n",
       "      <td>6667.0</td>\n",
       "    </tr>\n",
       "  </tbody>\n",
       "</table>\n",
       "</div>"
      ],
      "text/plain": [
       "     Area  BHK  Bathroom      Furnishing  \\\n",
       "1   750.0    2       2.0  Semi-Furnished   \n",
       "2   950.0    2       2.0       Furnished   \n",
       "3   600.0    2       2.0  Semi-Furnished   \n",
       "4   650.0    2       2.0  Semi-Furnished   \n",
       "5  1300.0    4       3.0  Semi-Furnished   \n",
       "\n",
       "                                            Locality  Parking     Price  \\\n",
       "1             J R Designers Floors, Rohini Sector 24      1.0   5000000   \n",
       "2                Citizen Apartment, Rohini Sector 13      1.0  15500000   \n",
       "3                                   Rohini Sector 24      1.0   4200000   \n",
       "4  Rohini Sector 24 carpet area 650 sqft status R...      1.0   6200000   \n",
       "5                                   Rohini Sector 24      1.0  15500000   \n",
       "\n",
       "          Status   Transaction           Type  Per_Sqft  \n",
       "1  Ready_to_move  New_Property      Apartment    6667.0  \n",
       "2  Ready_to_move        Resale      Apartment    6667.0  \n",
       "3  Ready_to_move        Resale  Builder_Floor    6667.0  \n",
       "4  Ready_to_move  New_Property  Builder_Floor    6667.0  \n",
       "5  Ready_to_move  New_Property  Builder_Floor    6667.0  "
      ]
     },
     "execution_count": 33,
     "metadata": {},
     "output_type": "execute_result"
    }
   ],
   "source": [
    "data.head()"
   ]
  },
  {
   "cell_type": "code",
   "execution_count": 34,
   "id": "2928bf3c",
   "metadata": {},
   "outputs": [
    {
     "name": "stdout",
     "output_type": "stream",
     "text": [
      "<class 'pandas.core.frame.DataFrame'>\n",
      "Int64Index: 1005 entries, 1 to 1258\n",
      "Data columns (total 11 columns):\n",
      " #   Column       Non-Null Count  Dtype  \n",
      "---  ------       --------------  -----  \n",
      " 0   Area         1005 non-null   float64\n",
      " 1   BHK          1005 non-null   int64  \n",
      " 2   Bathroom     1005 non-null   float64\n",
      " 3   Furnishing   1005 non-null   object \n",
      " 4   Locality     1005 non-null   object \n",
      " 5   Parking      1005 non-null   float64\n",
      " 6   Price        1005 non-null   int64  \n",
      " 7   Status       1005 non-null   object \n",
      " 8   Transaction  1005 non-null   object \n",
      " 9   Type         1005 non-null   object \n",
      " 10  Per_Sqft     1005 non-null   float64\n",
      "dtypes: float64(4), int64(2), object(5)\n",
      "memory usage: 94.2+ KB\n"
     ]
    }
   ],
   "source": [
    "data.info()"
   ]
  },
  {
   "cell_type": "markdown",
   "id": "411df059",
   "metadata": {},
   "source": [
    "# Checking the null values in the dataset"
   ]
  },
  {
   "cell_type": "code",
   "execution_count": 35,
   "id": "c8d15c1b",
   "metadata": {},
   "outputs": [
    {
     "data": {
      "text/plain": [
       "Area           0\n",
       "BHK            0\n",
       "Bathroom       0\n",
       "Furnishing     0\n",
       "Locality       0\n",
       "Parking        0\n",
       "Price          0\n",
       "Status         0\n",
       "Transaction    0\n",
       "Type           0\n",
       "Per_Sqft       0\n",
       "dtype: int64"
      ]
     },
     "execution_count": 35,
     "metadata": {},
     "output_type": "execute_result"
    }
   ],
   "source": [
    "data.isnull().sum()"
   ]
  },
  {
   "cell_type": "markdown",
   "id": "b1da3c78",
   "metadata": {},
   "source": [
    "# Correlation matrix"
   ]
  },
  {
   "cell_type": "code",
   "execution_count": 8,
   "id": "ab5dac2e",
   "metadata": {},
   "outputs": [
    {
     "name": "stderr",
     "output_type": "stream",
     "text": [
      "C:\\Users\\NISHANT\\AppData\\Local\\Temp\\ipykernel_24896\\586960701.py:2: FutureWarning: The default value of numeric_only in DataFrame.corr is deprecated. In a future version, it will default to False. Select only valid columns or specify the value of numeric_only to silence this warning.\n",
      "  sns.heatmap(data.corr(),annot =True,cmap='PiYG')\n"
     ]
    },
    {
     "data": {
      "text/plain": [
       "<Axes: >"
      ]
     },
     "execution_count": 8,
     "metadata": {},
     "output_type": "execute_result"
    },
    {
     "data": {
      "image/png": "[encoded data removed]",
      "text/plain": [
       "<Figure size 1500x800 with 2 Axes>"
      ]
     },
     "metadata": {},
     "output_type": "display_data"
    }
   ],
   "source": [
    "plt.figure(figsize=(15,8))\n",
    "sns.heatmap(data.corr(),annot =True,cmap='PiYG')"
   ]
  },
  {
   "cell_type": "code",
   "execution_count": 9,
   "id": "5d0568fd",
   "metadata": {},
   "outputs": [
    {
     "data": {
      "text/html": [
       "<div>\n",
       "<style scoped>\n",
       "    .dataframe tbody tr th:only-of-type {\n",
       "        vertical-align: middle;\n",
       "    }\n",
       "\n",
       "    .dataframe tbody tr th {\n",
       "        vertical-align: top;\n",
       "    }\n",
       "\n",
       "    .dataframe thead th {\n",
       "        text-align: right;\n",
       "    }\n",
       "</style>\n",
       "<table border=\"1\" class=\"dataframe\">\n",
       "  <thead>\n",
       "    <tr style=\"text-align: right;\">\n",
       "      <th></th>\n",
       "      <th>Area</th>\n",
       "      <th>BHK</th>\n",
       "      <th>Bathroom</th>\n",
       "      <th>Parking</th>\n",
       "      <th>Price</th>\n",
       "      <th>Per_Sqft</th>\n",
       "    </tr>\n",
       "  </thead>\n",
       "  <tbody>\n",
       "    <tr>\n",
       "      <th>count</th>\n",
       "      <td>1005.000000</td>\n",
       "      <td>1005.000000</td>\n",
       "      <td>1005.000000</td>\n",
       "      <td>1005.000000</td>\n",
       "      <td>1.005000e+03</td>\n",
       "      <td>1005.000000</td>\n",
       "    </tr>\n",
       "    <tr>\n",
       "      <th>mean</th>\n",
       "      <td>1504.301968</td>\n",
       "      <td>2.791045</td>\n",
       "      <td>2.575124</td>\n",
       "      <td>1.697512</td>\n",
       "      <td>2.224030e+07</td>\n",
       "      <td>15663.630846</td>\n",
       "    </tr>\n",
       "    <tr>\n",
       "      <th>std</th>\n",
       "      <td>1729.104830</td>\n",
       "      <td>0.961469</td>\n",
       "      <td>1.088503</td>\n",
       "      <td>3.223118</td>\n",
       "      <td>2.771744e+07</td>\n",
       "      <td>21170.160448</td>\n",
       "    </tr>\n",
       "    <tr>\n",
       "      <th>min</th>\n",
       "      <td>28.000000</td>\n",
       "      <td>1.000000</td>\n",
       "      <td>1.000000</td>\n",
       "      <td>1.000000</td>\n",
       "      <td>1.000000e+06</td>\n",
       "      <td>1259.000000</td>\n",
       "    </tr>\n",
       "    <tr>\n",
       "      <th>25%</th>\n",
       "      <td>770.000000</td>\n",
       "      <td>2.000000</td>\n",
       "      <td>2.000000</td>\n",
       "      <td>1.000000</td>\n",
       "      <td>5.130000e+06</td>\n",
       "      <td>6364.000000</td>\n",
       "    </tr>\n",
       "    <tr>\n",
       "      <th>50%</th>\n",
       "      <td>1150.000000</td>\n",
       "      <td>3.000000</td>\n",
       "      <td>2.000000</td>\n",
       "      <td>1.000000</td>\n",
       "      <td>1.400000e+07</td>\n",
       "      <td>11363.000000</td>\n",
       "    </tr>\n",
       "    <tr>\n",
       "      <th>75%</th>\n",
       "      <td>1700.000000</td>\n",
       "      <td>3.000000</td>\n",
       "      <td>3.000000</td>\n",
       "      <td>2.000000</td>\n",
       "      <td>2.700000e+07</td>\n",
       "      <td>18000.000000</td>\n",
       "    </tr>\n",
       "    <tr>\n",
       "      <th>max</th>\n",
       "      <td>24300.000000</td>\n",
       "      <td>7.000000</td>\n",
       "      <td>7.000000</td>\n",
       "      <td>39.000000</td>\n",
       "      <td>2.400000e+08</td>\n",
       "      <td>183333.000000</td>\n",
       "    </tr>\n",
       "  </tbody>\n",
       "</table>\n",
       "</div>"
      ],
      "text/plain": [
       "               Area          BHK     Bathroom      Parking         Price  \\\n",
       "count   1005.000000  1005.000000  1005.000000  1005.000000  1.005000e+03   \n",
       "mean    1504.301968     2.791045     2.575124     1.697512  2.224030e+07   \n",
       "std     1729.104830     0.961469     1.088503     3.223118  2.771744e+07   \n",
       "min       28.000000     1.000000     1.000000     1.000000  1.000000e+06   \n",
       "25%      770.000000     2.000000     2.000000     1.000000  5.130000e+06   \n",
       "50%     1150.000000     3.000000     2.000000     1.000000  1.400000e+07   \n",
       "75%     1700.000000     3.000000     3.000000     2.000000  2.700000e+07   \n",
       "max    24300.000000     7.000000     7.000000    39.000000  2.400000e+08   \n",
       "\n",
       "            Per_Sqft  \n",
       "count    1005.000000  \n",
       "mean    15663.630846  \n",
       "std     21170.160448  \n",
       "min      1259.000000  \n",
       "25%      6364.000000  \n",
       "50%     11363.000000  \n",
       "75%     18000.000000  \n",
       "max    183333.000000  "
      ]
     },
     "execution_count": 9,
     "metadata": {},
     "output_type": "execute_result"
    }
   ],
   "source": [
    "data.describe()"
   ]
  },
  {
   "cell_type": "code",
   "execution_count": 10,
   "id": "82edacfb",
   "metadata": {},
   "outputs": [
    {
     "name": "stderr",
     "output_type": "stream",
     "text": [
      "C:\\Users\\NISHANT\\AppData\\Local\\Temp\\ipykernel_24896\\924245796.py:1: FutureWarning: The default value of numeric_only in DataFrame.corr is deprecated. In a future version, it will default to False. Select only valid columns or specify the value of numeric_only to silence this warning.\n",
      "  corr_matrix=data.corr()\n"
     ]
    },
    {
     "data": {
      "text/plain": [
       "Price       1.000000\n",
       "Bathroom    0.732241\n",
       "BHK         0.599587\n",
       "Area        0.574410\n",
       "Per_Sqft    0.325240\n",
       "Parking     0.035894\n",
       "Name: Price, dtype: float64"
      ]
     },
     "execution_count": 10,
     "metadata": {},
     "output_type": "execute_result"
    }
   ],
   "source": [
    "corr_matrix=data.corr()\n",
    "corr_matrix['Price'].sort_values(ascending=False)"
   ]
  },
  {
   "cell_type": "code",
   "execution_count": 11,
   "id": "e1ebd512",
   "metadata": {},
   "outputs": [
    {
     "data": {
      "text/html": [
       "<style>#sk-container-id-1 {color: black;background-color: white;}#sk-container-id-1 pre{padding: 0;}#sk-container-id-1 div.sk-toggleable {background-color: white;}#sk-container-id-1 label.sk-toggleable__label {cursor: pointer;display: block;width: 100%;margin-bottom: 0;padding: 0.3em;box-sizing: border-box;text-align: center;}#sk-container-id-1 label.sk-toggleable__label-arrow:before {content: \"▸\";float: left;margin-right: 0.25em;color: #696969;}#sk-container-id-1 label.sk-toggleable__label-arrow:hover:before {color: black;}#sk-container-id-1 div.sk-estimator:hover label.sk-toggleable__label-arrow:before {color: black;}#sk-container-id-1 div.sk-toggleable__content {max-height: 0;max-width: 0;overflow: hidden;text-align: left;background-color: #f0f8ff;}#sk-container-id-1 div.sk-toggleable__content pre {margin: 0.2em;color: black;border-radius: 0.25em;background-color: #f0f8ff;}#sk-container-id-1 input.sk-toggleable__control:checked~div.sk-toggleable__content {max-height: 200px;max-width: 100%;overflow: auto;}#sk-container-id-1 input.sk-toggleable__control:checked~label.sk-toggleable__label-arrow:before {content: \"▾\";}#sk-container-id-1 div.sk-estimator input.sk-toggleable__control:checked~label.sk-toggleable__label {background-color: #d4ebff;}#sk-container-id-1 div.sk-label input.sk-toggleable__control:checked~label.sk-toggleable__label {background-color: #d4ebff;}#sk-container-id-1 input.sk-hidden--visually {border: 0;clip: rect(1px 1px 1px 1px);clip: rect(1px, 1px, 1px, 1px);height: 1px;margin: -1px;overflow: hidden;padding: 0;position: absolute;width: 1px;}#sk-container-id-1 div.sk-estimator {font-family: monospace;background-color: #f0f8ff;border: 1px dotted black;border-radius: 0.25em;box-sizing: border-box;margin-bottom: 0.5em;}#sk-container-id-1 div.sk-estimator:hover {background-color: #d4ebff;}#sk-container-id-1 div.sk-parallel-item::after {content: \"\";width: 100%;border-bottom: 1px solid gray;flex-grow: 1;}#sk-container-id-1 div.sk-label:hover label.sk-toggleable__label {background-color: #d4ebff;}#sk-container-id-1 div.sk-serial::before {content: \"\";position: absolute;border-left: 1px solid gray;box-sizing: border-box;top: 0;bottom: 0;left: 50%;z-index: 0;}#sk-container-id-1 div.sk-serial {display: flex;flex-direction: column;align-items: center;background-color: white;padding-right: 0.2em;padding-left: 0.2em;position: relative;}#sk-container-id-1 div.sk-item {position: relative;z-index: 1;}#sk-container-id-1 div.sk-parallel {display: flex;align-items: stretch;justify-content: center;background-color: white;position: relative;}#sk-container-id-1 div.sk-item::before, #sk-container-id-1 div.sk-parallel-item::before {content: \"\";position: absolute;border-left: 1px solid gray;box-sizing: border-box;top: 0;bottom: 0;left: 50%;z-index: -1;}#sk-container-id-1 div.sk-parallel-item {display: flex;flex-direction: column;z-index: 1;position: relative;background-color: white;}#sk-container-id-1 div.sk-parallel-item:first-child::after {align-self: flex-end;width: 50%;}#sk-container-id-1 div.sk-parallel-item:last-child::after {align-self: flex-start;width: 50%;}#sk-container-id-1 div.sk-parallel-item:only-child::after {width: 0;}#sk-container-id-1 div.sk-dashed-wrapped {border: 1px dashed gray;margin: 0 0.4em 0.5em 0.4em;box-sizing: border-box;padding-bottom: 0.4em;background-color: white;}#sk-container-id-1 div.sk-label label {font-family: monospace;font-weight: bold;display: inline-block;line-height: 1.2em;}#sk-container-id-1 div.sk-label-container {text-align: center;}#sk-container-id-1 div.sk-container {/* jupyter's `normalize.less` sets `[hidden] { display: none; }` but bootstrap.min.css set `[hidden] { display: none !important; }` so we also need the `!important` here to be able to override the default hidden behavior on the sphinx rendered scikit-learn.org. See: https://github.com/scikit-learn/scikit-learn/issues/21755 */display: inline-block !important;position: relative;}#sk-container-id-1 div.sk-text-repr-fallback {display: none;}</style><div id=\"sk-container-id-1\" class=\"sk-top-container\"><div class=\"sk-text-repr-fallback\"><pre>LinearRegression()</pre><b>In a Jupyter environment, please rerun this cell to show the HTML representation or trust the notebook. <br />On GitHub, the HTML representation is unable to render, please try loading this page with nbviewer.org.</b></div><div class=\"sk-container\" hidden><div class=\"sk-item\"><div class=\"sk-estimator sk-toggleable\"><input class=\"sk-toggleable__control sk-hidden--visually\" id=\"sk-estimator-id-1\" type=\"checkbox\" checked><label for=\"sk-estimator-id-1\" class=\"sk-toggleable__label sk-toggleable__label-arrow\">LinearRegression</label><div class=\"sk-toggleable__content\"><pre>LinearRegression()</pre></div></div></div></div></div>"
      ],
      "text/plain": [
       "LinearRegression()"
      ]
     },
     "execution_count": 11,
     "metadata": {},
     "output_type": "execute_result"
    }
   ],
   "source": [
    "X = data_encoded.drop('Price', axis=1)\n",
    "y = data_encoded['Price']\n",
    "X_train, X_test, y_train, y_test = train_test_split(X, y, test_size=0.2, random_state=42)\n",
    "model_sklearn = LinearRegression()\n",
    "model_sklearn.fit(X_train, y_train)"
   ]
  },
  {
   "cell_type": "code",
   "execution_count": 12,
   "id": "6d03f53f",
   "metadata": {},
   "outputs": [],
   "source": [
    "predictions_sklearn = model_sklearn.predict(X_test)"
   ]
  },
  {
   "cell_type": "code",
   "execution_count": 13,
   "id": "de03f04f",
   "metadata": {},
   "outputs": [
    {
     "name": "stdout",
     "output_type": "stream",
     "text": [
      "Mean Squared Error (scikit-learn): 6.809421959281704e+27\n"
     ]
    }
   ],
   "source": [
    "mse_sklearn = mean_squared_error(y_test, predictions_sklearn)\n",
    "print(\"Mean Squared Error (scikit-learn):\", mse_sklearn)"
   ]
  },
  {
   "cell_type": "code",
   "execution_count": 14,
   "id": "8d31de2c",
   "metadata": {},
   "outputs": [],
   "source": [
    "model_tf = Sequential([\n",
    "    Dense(64, activation='relu', input_shape=[len(X_train.keys())]),\n",
    "    Dense(64, activation='relu'),\n",
    "    Dense(1)\n",
    "])"
   ]
  },
  {
   "cell_type": "code",
   "execution_count": 15,
   "id": "5027b829",
   "metadata": {},
   "outputs": [],
   "source": [
    "model_tf.compile(optimizer=Adam(learning_rate=0.001), loss='mse')"
   ]
  },
  {
   "cell_type": "code",
   "execution_count": 36,
   "id": "1cdc70c8",
   "metadata": {},
   "outputs": [
    {
     "name": "stdout",
     "output_type": "stream",
     "text": [
      "Epoch 1/100\n",
      "13/13 [==============================] - 0s 3ms/step - loss: 470949539348480.0000\n",
      "Epoch 2/100\n",
      "13/13 [==============================] - 0s 2ms/step - loss: 470453906833408.0000\n",
      "Epoch 3/100\n",
      "13/13 [==============================] - 0s 2ms/step - loss: 470072829149184.0000\n",
      "Epoch 4/100\n",
      "13/13 [==============================] - 0s 2ms/step - loss: 469577632841728.0000\n",
      "Epoch 5/100\n",
      "13/13 [==============================] - 0s 2ms/step - loss: 469225646850048.0000\n",
      "Epoch 6/100\n",
      "13/13 [==============================] - 0s 2ms/step - loss: 468513722466304.0000\n",
      "Epoch 7/100\n",
      "13/13 [==============================] - 0s 2ms/step - loss: 468088822693888.0000\n",
      "Epoch 8/100\n",
      "13/13 [==============================] - 0s 2ms/step - loss: 467893703671808.0000\n",
      "Epoch 9/100\n",
      "13/13 [==============================] - 0s 2ms/step - loss: 467413204205568.0000\n",
      "Epoch 10/100\n",
      "13/13 [==============================] - 0s 2ms/step - loss: 466856871723008.0000\n",
      "Epoch 11/100\n",
      "13/13 [==============================] - 0s 2ms/step - loss: 466220847464448.0000\n",
      "Epoch 12/100\n",
      "13/13 [==============================] - 0s 2ms/step - loss: 466376439365632.0000\n",
      "Epoch 13/100\n",
      "13/13 [==============================] - 0s 2ms/step - loss: 465586299600896.0000\n",
      "Epoch 14/100\n",
      "13/13 [==============================] - 0s 2ms/step - loss: 464951885955072.0000\n",
      "Epoch 15/100\n",
      "13/13 [==============================] - 0s 2ms/step - loss: 464747472355328.0000\n",
      "Epoch 16/100\n",
      "13/13 [==============================] - 0s 2ms/step - loss: 464324686512128.0000\n",
      "Epoch 17/100\n",
      "13/13 [==============================] - 0s 2ms/step - loss: 463814558482432.0000\n",
      "Epoch 18/100\n",
      "13/13 [==============================] - 0s 2ms/step - loss: 463837241278464.0000\n",
      "Epoch 19/100\n",
      "13/13 [==============================] - 0s 2ms/step - loss: 463476967342080.0000\n",
      "Epoch 20/100\n",
      "13/13 [==============================] - 0s 2ms/step - loss: 463146355523584.0000\n",
      "Epoch 21/100\n",
      "13/13 [==============================] - 0s 2ms/step - loss: 462537376137216.0000\n",
      "Epoch 22/100\n",
      "13/13 [==============================] - 0s 2ms/step - loss: 462171767046144.0000\n",
      "Epoch 23/100\n",
      "13/13 [==============================] - 0s 2ms/step - loss: 461961481420800.0000\n",
      "Epoch 24/100\n",
      "13/13 [==============================] - 0s 2ms/step - loss: 461754014367744.0000\n",
      "Epoch 25/100\n",
      "13/13 [==============================] - 0s 2ms/step - loss: 461293412679680.0000\n",
      "Epoch 26/100\n",
      "13/13 [==============================] - 0s 2ms/step - loss: 461290057236480.0000\n",
      "Epoch 27/100\n",
      "13/13 [==============================] - 0s 2ms/step - loss: 460720235872256.0000\n",
      "Epoch 28/100\n",
      "13/13 [==============================] - 0s 2ms/step - loss: 460520721219584.0000\n",
      "Epoch 29/100\n",
      "13/13 [==============================] - 0s 2ms/step - loss: 460393919021056.0000\n",
      "Epoch 30/100\n",
      "13/13 [==============================] - 0s 2ms/step - loss: 459985360257024.0000\n",
      "Epoch 31/100\n",
      "13/13 [==============================] - 0s 2ms/step - loss: 459897078546432.0000\n",
      "Epoch 32/100\n",
      "13/13 [==============================] - 0s 2ms/step - loss: 459332323901440.0000\n",
      "Epoch 33/100\n",
      "13/13 [==============================] - 0s 2ms/step - loss: 459187234537472.0000\n",
      "Epoch 34/100\n",
      "13/13 [==============================] - 0s 2ms/step - loss: 458965171306496.0000\n",
      "Epoch 35/100\n",
      "13/13 [==============================] - 0s 2ms/step - loss: 458634257498112.0000\n",
      "Epoch 36/100\n",
      "13/13 [==============================] - 0s 2ms/step - loss: 458550807625728.0000\n",
      "Epoch 37/100\n",
      "13/13 [==============================] - 0s 2ms/step - loss: 458268514189312.0000\n",
      "Epoch 38/100\n",
      "13/13 [==============================] - 0s 3ms/step - loss: 458099668287488.0000\n",
      "Epoch 39/100\n",
      "13/13 [==============================] - 0s 2ms/step - loss: 458018332344320.0000\n",
      "Epoch 40/100\n",
      "13/13 [==============================] - 0s 2ms/step - loss: 457719765008384.0000\n",
      "Epoch 41/100\n",
      "13/13 [==============================] - 0s 2ms/step - loss: 457362611634176.0000\n",
      "Epoch 42/100\n",
      "13/13 [==============================] - 0s 2ms/step - loss: 457191517585408.0000\n",
      "Epoch 43/100\n",
      "13/13 [==============================] - 0s 2ms/step - loss: 457041327947776.0000\n",
      "Epoch 44/100\n",
      "13/13 [==============================] - 0s 2ms/step - loss: 456911640068096.0000\n",
      "Epoch 45/100\n",
      "13/13 [==============================] - 0s 2ms/step - loss: 456862482825216.0000\n",
      "Epoch 46/100\n",
      "13/13 [==============================] - 0s 2ms/step - loss: 456781784416256.0000\n",
      "Epoch 47/100\n",
      "13/13 [==============================] - 0s 2ms/step - loss: 456475801550848.0000\n",
      "Epoch 48/100\n",
      "13/13 [==============================] - 0s 2ms/step - loss: 456618307223552.0000\n",
      "Epoch 49/100\n",
      "13/13 [==============================] - 0s 2ms/step - loss: 456185085952000.0000\n",
      "Epoch 50/100\n",
      "13/13 [==============================] - 0s 2ms/step - loss: 456358897909760.0000\n",
      "Epoch 51/100\n",
      "13/13 [==============================] - 0s 2ms/step - loss: 456058686406656.0000\n",
      "Epoch 52/100\n",
      "13/13 [==============================] - 0s 2ms/step - loss: 455607614177280.0000\n",
      "Epoch 53/100\n",
      "13/13 [==============================] - 0s 2ms/step - loss: 455547249754112.0000\n",
      "Epoch 54/100\n",
      "13/13 [==============================] - 0s 2ms/step - loss: 455538726928384.0000\n",
      "Epoch 55/100\n",
      "13/13 [==============================] - 0s 2ms/step - loss: 455397261443072.0000\n",
      "Epoch 56/100\n",
      "13/13 [==============================] - 0s 2ms/step - loss: 455439707799552.0000\n",
      "Epoch 57/100\n",
      "13/13 [==============================] - 0s 2ms/step - loss: 454976790855680.0000\n",
      "Epoch 58/100\n",
      "13/13 [==============================] - 0s 2ms/step - loss: 454959342551040.0000\n",
      "Epoch 59/100\n",
      "13/13 [==============================] - 0s 2ms/step - loss: 454982461554688.0000\n",
      "Epoch 60/100\n",
      "13/13 [==============================] - 0s 2ms/step - loss: 454881898921984.0000\n",
      "Epoch 61/100\n",
      "13/13 [==============================] - 0s 2ms/step - loss: 454807475191808.0000\n",
      "Epoch 62/100\n",
      "13/13 [==============================] - 0s 2ms/step - loss: 454638830616576.0000\n",
      "Epoch 63/100\n",
      "13/13 [==============================] - 0s 2ms/step - loss: 454560950779904.0000\n",
      "Epoch 64/100\n",
      "13/13 [==============================] - 0s 2ms/step - loss: 454472299970560.0000\n",
      "Epoch 65/100\n",
      "13/13 [==============================] - 0s 2ms/step - loss: 454644031553536.0000\n",
      "Epoch 66/100\n",
      "13/13 [==============================] - 0s 2ms/step - loss: 454396768944128.0000\n",
      "Epoch 67/100\n",
      "13/13 [==============================] - 0s 2ms/step - loss: 454217890267136.0000\n",
      "Epoch 68/100\n",
      "13/13 [==============================] - 0s 2ms/step - loss: 454361838780416.0000\n",
      "Epoch 69/100\n",
      "13/13 [==============================] - 0s 2ms/step - loss: 454261947236352.0000\n",
      "Epoch 70/100\n",
      "13/13 [==============================] - 0s 2ms/step - loss: 454385796644864.0000\n",
      "Epoch 71/100\n",
      "13/13 [==============================] - 0s 2ms/step - loss: 454110851629056.0000\n",
      "Epoch 72/100\n",
      "13/13 [==============================] - 0s 3ms/step - loss: 454000793092096.0000\n",
      "Epoch 73/100\n",
      "13/13 [==============================] - 0s 2ms/step - loss: 453895365066752.0000\n",
      "Epoch 74/100\n",
      "13/13 [==============================] - 0s 2ms/step - loss: 453980828205056.0000\n",
      "Epoch 75/100\n",
      "13/13 [==============================] - 0s 2ms/step - loss: 453750812573696.0000\n",
      "Epoch 76/100\n",
      "13/13 [==============================] - 0s 2ms/step - loss: 453869528154112.0000\n",
      "Epoch 77/100\n",
      "13/13 [==============================] - 0s 2ms/step - loss: 453647532032000.0000\n",
      "Epoch 78/100\n",
      "13/13 [==============================] - 0s 2ms/step - loss: 453830940557312.0000\n",
      "Epoch 79/100\n",
      "13/13 [==============================] - 0s 2ms/step - loss: 453804264783872.0000\n",
      "Epoch 80/100\n",
      "13/13 [==============================] - 0s 2ms/step - loss: 453686018965504.0000\n",
      "Epoch 81/100\n",
      "13/13 [==============================] - 0s 2ms/step - loss: 453505294794752.0000\n",
      "Epoch 82/100\n",
      "13/13 [==============================] - 0s 2ms/step - loss: 453457647501312.0000\n",
      "Epoch 83/100\n",
      "13/13 [==============================] - 0s 2ms/step - loss: 453352857010176.0000\n",
      "Epoch 84/100\n",
      "13/13 [==============================] - 0s 2ms/step - loss: 453324369297408.0000\n",
      "Epoch 85/100\n",
      "13/13 [==============================] - 0s 2ms/step - loss: 453266454347776.0000\n",
      "Epoch 86/100\n",
      "13/13 [==============================] - 0s 2ms/step - loss: 453487611609088.0000\n",
      "Epoch 87/100\n"
     ]
    },
    {
     "name": "stdout",
     "output_type": "stream",
     "text": [
      "13/13 [==============================] - 0s 2ms/step - loss: 453126867910656.0000\n",
      "Epoch 88/100\n",
      "13/13 [==============================] - 0s 2ms/step - loss: 453345240154112.0000\n",
      "Epoch 89/100\n",
      "13/13 [==============================] - 0s 2ms/step - loss: 453338697039872.0000\n",
      "Epoch 90/100\n",
      "13/13 [==============================] - 0s 2ms/step - loss: 453352722792448.0000\n",
      "Epoch 91/100\n",
      "13/13 [==============================] - 0s 2ms/step - loss: 453144349769728.0000\n",
      "Epoch 92/100\n",
      "13/13 [==============================] - 0s 2ms/step - loss: 453063752024064.0000\n",
      "Epoch 93/100\n",
      "13/13 [==============================] - 0s 2ms/step - loss: 453005837074432.0000\n",
      "Epoch 94/100\n",
      "13/13 [==============================] - 0s 2ms/step - loss: 453195620941824.0000\n",
      "Epoch 95/100\n",
      "13/13 [==============================] - 0s 2ms/step - loss: 453013319712768.0000\n",
      "Epoch 96/100\n",
      "13/13 [==============================] - 0s 2ms/step - loss: 453358930362368.0000\n",
      "Epoch 97/100\n",
      "13/13 [==============================] - 0s 2ms/step - loss: 452838064914432.0000\n",
      "Epoch 98/100\n",
      "13/13 [==============================] - 0s 2ms/step - loss: 452836252975104.0000\n",
      "Epoch 99/100\n",
      "13/13 [==============================] - 0s 2ms/step - loss: 453031103561728.0000\n",
      "Epoch 100/100\n",
      "13/13 [==============================] - 0s 2ms/step - loss: 452845279117312.0000\n",
      "{'loss': [470949539348480.0, 470453906833408.0, 470072829149184.0, 469577632841728.0, 469225646850048.0, 468513722466304.0, 468088822693888.0, 467893703671808.0, 467413204205568.0, 466856871723008.0, 466220847464448.0, 466376439365632.0, 465586299600896.0, 464951885955072.0, 464747472355328.0, 464324686512128.0, 463814558482432.0, 463837241278464.0, 463476967342080.0, 463146355523584.0, 462537376137216.0, 462171767046144.0, 461961481420800.0, 461754014367744.0, 461293412679680.0, 461290057236480.0, 460720235872256.0, 460520721219584.0, 460393919021056.0, 459985360257024.0, 459897078546432.0, 459332323901440.0, 459187234537472.0, 458965171306496.0, 458634257498112.0, 458550807625728.0, 458268514189312.0, 458099668287488.0, 458018332344320.0, 457719765008384.0, 457362611634176.0, 457191517585408.0, 457041327947776.0, 456911640068096.0, 456862482825216.0, 456781784416256.0, 456475801550848.0, 456618307223552.0, 456185085952000.0, 456358897909760.0, 456058686406656.0, 455607614177280.0, 455547249754112.0, 455538726928384.0, 455397261443072.0, 455439707799552.0, 454976790855680.0, 454959342551040.0, 454982461554688.0, 454881898921984.0, 454807475191808.0, 454638830616576.0, 454560950779904.0, 454472299970560.0, 454644031553536.0, 454396768944128.0, 454217890267136.0, 454361838780416.0, 454261947236352.0, 454385796644864.0, 454110851629056.0, 454000793092096.0, 453895365066752.0, 453980828205056.0, 453750812573696.0, 453869528154112.0, 453647532032000.0, 453830940557312.0, 453804264783872.0, 453686018965504.0, 453505294794752.0, 453457647501312.0, 453352857010176.0, 453324369297408.0, 453266454347776.0, 453487611609088.0, 453126867910656.0, 453345240154112.0, 453338697039872.0, 453352722792448.0, 453144349769728.0, 453063752024064.0, 453005837074432.0, 453195620941824.0, 453013319712768.0, 453358930362368.0, 452838064914432.0, 452836252975104.0, 453031103561728.0, 452845279117312.0]}\n"
     ]
    }
   ],
   "source": [
    "history = model_tf.fit(X_train, y_train, epochs=100, batch_size=64, verbose=1)\n",
    "print(history.history)\n",
    "\n"
   ]
  },
  {
   "cell_type": "code",
   "execution_count": 37,
   "id": "d6d33b7d",
   "metadata": {},
   "outputs": [
    {
     "name": "stdout",
     "output_type": "stream",
     "text": [
      "7/7 [==============================] - 0s 2ms/step\n"
     ]
    }
   ],
   "source": [
    "predictions_tf = model_tf.predict(X_test)\n"
   ]
  },
  {
   "cell_type": "code",
   "execution_count": 38,
   "id": "fbb2fa13",
   "metadata": {},
   "outputs": [
    {
     "data": {
      "text/html": [
       "<style>#sk-container-id-4 {color: black;background-color: white;}#sk-container-id-4 pre{padding: 0;}#sk-container-id-4 div.sk-toggleable {background-color: white;}#sk-container-id-4 label.sk-toggleable__label {cursor: pointer;display: block;width: 100%;margin-bottom: 0;padding: 0.3em;box-sizing: border-box;text-align: center;}#sk-container-id-4 label.sk-toggleable__label-arrow:before {content: \"▸\";float: left;margin-right: 0.25em;color: #696969;}#sk-container-id-4 label.sk-toggleable__label-arrow:hover:before {color: black;}#sk-container-id-4 div.sk-estimator:hover label.sk-toggleable__label-arrow:before {color: black;}#sk-container-id-4 div.sk-toggleable__content {max-height: 0;max-width: 0;overflow: hidden;text-align: left;background-color: #f0f8ff;}#sk-container-id-4 div.sk-toggleable__content pre {margin: 0.2em;color: black;border-radius: 0.25em;background-color: #f0f8ff;}#sk-container-id-4 input.sk-toggleable__control:checked~div.sk-toggleable__content {max-height: 200px;max-width: 100%;overflow: auto;}#sk-container-id-4 input.sk-toggleable__control:checked~label.sk-toggleable__label-arrow:before {content: \"▾\";}#sk-container-id-4 div.sk-estimator input.sk-toggleable__control:checked~label.sk-toggleable__label {background-color: #d4ebff;}#sk-container-id-4 div.sk-label input.sk-toggleable__control:checked~label.sk-toggleable__label {background-color: #d4ebff;}#sk-container-id-4 input.sk-hidden--visually {border: 0;clip: rect(1px 1px 1px 1px);clip: rect(1px, 1px, 1px, 1px);height: 1px;margin: -1px;overflow: hidden;padding: 0;position: absolute;width: 1px;}#sk-container-id-4 div.sk-estimator {font-family: monospace;background-color: #f0f8ff;border: 1px dotted black;border-radius: 0.25em;box-sizing: border-box;margin-bottom: 0.5em;}#sk-container-id-4 div.sk-estimator:hover {background-color: #d4ebff;}#sk-container-id-4 div.sk-parallel-item::after {content: \"\";width: 100%;border-bottom: 1px solid gray;flex-grow: 1;}#sk-container-id-4 div.sk-label:hover label.sk-toggleable__label {background-color: #d4ebff;}#sk-container-id-4 div.sk-serial::before {content: \"\";position: absolute;border-left: 1px solid gray;box-sizing: border-box;top: 0;bottom: 0;left: 50%;z-index: 0;}#sk-container-id-4 div.sk-serial {display: flex;flex-direction: column;align-items: center;background-color: white;padding-right: 0.2em;padding-left: 0.2em;position: relative;}#sk-container-id-4 div.sk-item {position: relative;z-index: 1;}#sk-container-id-4 div.sk-parallel {display: flex;align-items: stretch;justify-content: center;background-color: white;position: relative;}#sk-container-id-4 div.sk-item::before, #sk-container-id-4 div.sk-parallel-item::before {content: \"\";position: absolute;border-left: 1px solid gray;box-sizing: border-box;top: 0;bottom: 0;left: 50%;z-index: -1;}#sk-container-id-4 div.sk-parallel-item {display: flex;flex-direction: column;z-index: 1;position: relative;background-color: white;}#sk-container-id-4 div.sk-parallel-item:first-child::after {align-self: flex-end;width: 50%;}#sk-container-id-4 div.sk-parallel-item:last-child::after {align-self: flex-start;width: 50%;}#sk-container-id-4 div.sk-parallel-item:only-child::after {width: 0;}#sk-container-id-4 div.sk-dashed-wrapped {border: 1px dashed gray;margin: 0 0.4em 0.5em 0.4em;box-sizing: border-box;padding-bottom: 0.4em;background-color: white;}#sk-container-id-4 div.sk-label label {font-family: monospace;font-weight: bold;display: inline-block;line-height: 1.2em;}#sk-container-id-4 div.sk-label-container {text-align: center;}#sk-container-id-4 div.sk-container {/* jupyter's `normalize.less` sets `[hidden] { display: none; }` but bootstrap.min.css set `[hidden] { display: none !important; }` so we also need the `!important` here to be able to override the default hidden behavior on the sphinx rendered scikit-learn.org. See: https://github.com/scikit-learn/scikit-learn/issues/21755 */display: inline-block !important;position: relative;}#sk-container-id-4 div.sk-text-repr-fallback {display: none;}</style><div id=\"sk-container-id-4\" class=\"sk-top-container\"><div class=\"sk-text-repr-fallback\"><pre>RandomForestRegressor()</pre><b>In a Jupyter environment, please rerun this cell to show the HTML representation or trust the notebook. <br />On GitHub, the HTML representation is unable to render, please try loading this page with nbviewer.org.</b></div><div class=\"sk-container\" hidden><div class=\"sk-item\"><div class=\"sk-estimator sk-toggleable\"><input class=\"sk-toggleable__control sk-hidden--visually\" id=\"sk-estimator-id-4\" type=\"checkbox\" checked><label for=\"sk-estimator-id-4\" class=\"sk-toggleable__label sk-toggleable__label-arrow\">RandomForestRegressor</label><div class=\"sk-toggleable__content\"><pre>RandomForestRegressor()</pre></div></div></div></div></div>"
      ],
      "text/plain": [
       "RandomForestRegressor()"
      ]
     },
     "execution_count": 38,
     "metadata": {},
     "output_type": "execute_result"
    }
   ],
   "source": [
    "from sklearn.ensemble import RandomForestRegressor\n",
    "random= RandomForestRegressor()\n",
    "random.fit(X_train, y_train)"
   ]
  },
  {
   "cell_type": "code",
   "execution_count": 39,
   "id": "849509d3",
   "metadata": {},
   "outputs": [
    {
     "data": {
      "text/plain": [
       "0.9774673447823112"
      ]
     },
     "execution_count": 39,
     "metadata": {},
     "output_type": "execute_result"
    }
   ],
   "source": [
    "random.score(X_train , y_train)"
   ]
  },
  {
   "cell_type": "code",
   "execution_count": 32,
   "id": "ca345b15",
   "metadata": {},
   "outputs": [
    {
     "data": {
      "text/plain": [
       "0.8620416222781879"
      ]
     },
     "execution_count": 32,
     "metadata": {},
     "output_type": "execute_result"
    }
   ],
   "source": [
    "random.score(X_test , y_test)"
   ]
  },
  {
   "cell_type": "code",
   "execution_count": null,
   "id": "1bd8ecc4",
   "metadata": {},
   "outputs": [],
   "source": []
  }
 ],
 "metadata": {
  "kernelspec": {
   "display_name": "Python 3 (ipykernel)",
   "language": "python",
   "name": "python3"
  },
  "language_info": {
   "codemirror_mode": {
    "name": "ipython",
    "version": 3
   },
   "file_extension": ".py",
   "mimetype": "text/x-python",
   "name": "python",
   "nbconvert_exporter": "python",
   "pygments_lexer": "ipython3",
   "version": "3.11.3"
  }
 },
 "nbformat": 4,
 "nbformat_minor": 5
}
